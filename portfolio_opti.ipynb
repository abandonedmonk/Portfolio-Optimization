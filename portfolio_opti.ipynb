{
 "cells": [
  {
   "cell_type": "code",
   "execution_count": 1,
   "id": "e0c89d51",
   "metadata": {},
   "outputs": [],
   "source": [
    "import pathlib\n",
    "import numpy as np\n",
    "import pandas as pd\n",
    "import matplotlib.pyplot as plt\n",
    "import scipy.optimize as sci_plt\n",
    "\n",
    "from pprint import pprint\n",
    "from sklearn.preprocessing import StandardScaler"
   ]
  },
  {
   "cell_type": "code",
   "execution_count": 2,
   "id": "f2b0a054",
   "metadata": {},
   "outputs": [
    {
     "data": {
      "text/html": [
       "<div>\n",
       "<style scoped>\n",
       "    .dataframe tbody tr th:only-of-type {\n",
       "        vertical-align: middle;\n",
       "    }\n",
       "\n",
       "    .dataframe tbody tr th {\n",
       "        vertical-align: top;\n",
       "    }\n",
       "\n",
       "    .dataframe thead th {\n",
       "        text-align: right;\n",
       "    }\n",
       "</style>\n",
       "<table border=\"1\" class=\"dataframe\">\n",
       "  <thead>\n",
       "    <tr style=\"text-align: right;\">\n",
       "      <th></th>\n",
       "      <th>date</th>\n",
       "      <th>close</th>\n",
       "      <th>volume</th>\n",
       "      <th>open</th>\n",
       "      <th>high</th>\n",
       "      <th>low</th>\n",
       "      <th>symbol</th>\n",
       "    </tr>\n",
       "  </thead>\n",
       "  <tbody>\n",
       "    <tr>\n",
       "      <th>0</th>\n",
       "      <td>2020-07-23</td>\n",
       "      <td>122.93</td>\n",
       "      <td>11010220</td>\n",
       "      <td>127.74</td>\n",
       "      <td>129.8494</td>\n",
       "      <td>121.32</td>\n",
       "      <td>SQ</td>\n",
       "    </tr>\n",
       "    <tr>\n",
       "      <th>1</th>\n",
       "      <td>2020-07-22</td>\n",
       "      <td>129.18</td>\n",
       "      <td>8437494</td>\n",
       "      <td>127.49</td>\n",
       "      <td>131.7100</td>\n",
       "      <td>127.06</td>\n",
       "      <td>SQ</td>\n",
       "    </tr>\n",
       "    <tr>\n",
       "      <th>2</th>\n",
       "      <td>2020-07-21</td>\n",
       "      <td>126.99</td>\n",
       "      <td>10787520</td>\n",
       "      <td>129.95</td>\n",
       "      <td>130.8000</td>\n",
       "      <td>125.07</td>\n",
       "      <td>SQ</td>\n",
       "    </tr>\n",
       "    <tr>\n",
       "      <th>3</th>\n",
       "      <td>2020-07-20</td>\n",
       "      <td>128.39</td>\n",
       "      <td>12423990</td>\n",
       "      <td>121.26</td>\n",
       "      <td>129.4600</td>\n",
       "      <td>120.53</td>\n",
       "      <td>SQ</td>\n",
       "    </tr>\n",
       "    <tr>\n",
       "      <th>4</th>\n",
       "      <td>2020-07-17</td>\n",
       "      <td>120.73</td>\n",
       "      <td>6968161</td>\n",
       "      <td>120.98</td>\n",
       "      <td>122.3800</td>\n",
       "      <td>118.59</td>\n",
       "      <td>SQ</td>\n",
       "    </tr>\n",
       "  </tbody>\n",
       "</table>\n",
       "</div>"
      ],
      "text/plain": [
       "         date   close    volume    open      high     low symbol\n",
       "0  2020-07-23  122.93  11010220  127.74  129.8494  121.32     SQ\n",
       "1  2020-07-22  129.18   8437494  127.49  131.7100  127.06     SQ\n",
       "2  2020-07-21  126.99  10787520  129.95  130.8000  125.07     SQ\n",
       "3  2020-07-20  128.39  12423990  121.26  129.4600  120.53     SQ\n",
       "4  2020-07-17  120.73   6968161  120.98  122.3800  118.59     SQ"
      ]
     },
     "execution_count": 2,
     "metadata": {},
     "output_type": "execute_result"
    }
   ],
   "source": [
    "df = pd.read_csv(\"data/stock_data.csv\")\n",
    "df.head()"
   ]
  },
  {
   "cell_type": "code",
   "execution_count": 3,
   "metadata": {},
   "outputs": [
    {
     "data": {
      "text/html": [
       "<div>\n",
       "<style scoped>\n",
       "    .dataframe tbody tr th:only-of-type {\n",
       "        vertical-align: middle;\n",
       "    }\n",
       "\n",
       "    .dataframe tbody tr th {\n",
       "        vertical-align: top;\n",
       "    }\n",
       "\n",
       "    .dataframe thead th {\n",
       "        text-align: right;\n",
       "    }\n",
       "</style>\n",
       "<table border=\"1\" class=\"dataframe\">\n",
       "  <thead>\n",
       "    <tr style=\"text-align: right;\">\n",
       "      <th>symbol</th>\n",
       "      <th>AAPL</th>\n",
       "      <th>MSFT</th>\n",
       "      <th>SQ</th>\n",
       "    </tr>\n",
       "    <tr>\n",
       "      <th>date</th>\n",
       "      <th></th>\n",
       "      <th></th>\n",
       "      <th></th>\n",
       "    </tr>\n",
       "  </thead>\n",
       "  <tbody>\n",
       "    <tr>\n",
       "      <th>2020-01-24</th>\n",
       "      <td>318.31</td>\n",
       "      <td>165.04</td>\n",
       "      <td>71.14</td>\n",
       "    </tr>\n",
       "    <tr>\n",
       "      <th>2020-01-27</th>\n",
       "      <td>308.95</td>\n",
       "      <td>162.28</td>\n",
       "      <td>71.05</td>\n",
       "    </tr>\n",
       "    <tr>\n",
       "      <th>2020-01-28</th>\n",
       "      <td>317.69</td>\n",
       "      <td>165.46</td>\n",
       "      <td>74.80</td>\n",
       "    </tr>\n",
       "    <tr>\n",
       "      <th>2020-01-29</th>\n",
       "      <td>324.34</td>\n",
       "      <td>168.04</td>\n",
       "      <td>76.16</td>\n",
       "    </tr>\n",
       "    <tr>\n",
       "      <th>2020-01-30</th>\n",
       "      <td>323.87</td>\n",
       "      <td>172.78</td>\n",
       "      <td>76.10</td>\n",
       "    </tr>\n",
       "  </tbody>\n",
       "</table>\n",
       "</div>"
      ],
      "text/plain": [
       "symbol        AAPL    MSFT     SQ\n",
       "date                             \n",
       "2020-01-24  318.31  165.04  71.14\n",
       "2020-01-27  308.95  162.28  71.05\n",
       "2020-01-28  317.69  165.46  74.80\n",
       "2020-01-29  324.34  168.04  76.16\n",
       "2020-01-30  323.87  172.78  76.10"
      ]
     },
     "execution_count": 3,
     "metadata": {},
     "output_type": "execute_result"
    }
   ],
   "source": [
    "# Get only the valid columns\n",
    "df = df [['date', 'symbol', 'close']]\n",
    "\n",
    "# Make symbol the headers (Pivot)\n",
    "df = df.pivot(\n",
    "    index='date',\n",
    "    columns='symbol',\n",
    "    values='close'\n",
    ")\n",
    "\n",
    "df.head()"
   ]
  },
  {
   "cell_type": "code",
   "execution_count": 4,
   "id": "fa6d8753",
   "metadata": {},
   "outputs": [],
   "source": [
    "assert df.shape[1] == 3"
   ]
  },
  {
   "cell_type": "code",
   "execution_count": 5,
   "id": "f1a2bc60",
   "metadata": {},
   "outputs": [],
   "source": [
    "# Print Functionality\n",
    "def print_func(title: str, df: pd.DataFrame):\n",
    "    print('')\n",
    "    print('='*80)\n",
    "    print(title)\n",
    "    print('-'*80)\n",
    "    print(df)\n",
    "    print('-'*80)"
   ]
  },
  {
   "cell_type": "code",
   "execution_count": 6,
   "id": "e7eae1ec",
   "metadata": {},
   "outputs": [
    {
     "name": "stdout",
     "output_type": "stream",
     "text": [
      "\n",
      "================================================================================\n",
      "PORTFOLIO WEIGHTS:\n",
      "--------------------------------------------------------------------------------\n",
      "   random_weights\n",
      "0        0.793967\n",
      "1        0.097030\n",
      "2        0.109003\n",
      "--------------------------------------------------------------------------------\n",
      "\n",
      "================================================================================\n",
      "PORTFOLIO METRICS:\n",
      "--------------------------------------------------------------------------------\n",
      "   Expected Portfolio Returns  Expected Portfolio Volatility  \\\n",
      "0                    0.407066                       0.549427   \n",
      "\n",
      "   Portfolio Sharpe Ratio  \n",
      "0                0.740891  \n",
      "--------------------------------------------------------------------------------\n"
     ]
    }
   ],
   "source": [
    "# Calculate Log returns\n",
    "log_return = np.log(1 + df.pct_change())\n",
    "\n",
    "# Generate Random Weights (of each portfolio)\n",
    "random_weights = np.array(np.random.random(3))\n",
    "random_weights /= np.sum(random_weights) # Summing to 1\n",
    "\n",
    "# Calculate Expected Return (Rp) for the whole year, i.e. 252 working days\n",
    "rp = np.sum((log_return.mean() * random_weights) * 252)\n",
    "\n",
    "# Calculate Expected Volatility, for whole year\n",
    "exp_vol = np.sqrt(\n",
    "    np.dot(\n",
    "        random_weights.T,\n",
    "        np.dot(\n",
    "            log_return.cov() * 252,\n",
    "            random_weights\n",
    "        )\n",
    "    )\n",
    ")\n",
    "\n",
    "# Calculate Sharpe Ratio\n",
    "sharpe_ratio = rp / exp_vol\n",
    "\n",
    "weights_df = pd.DataFrame(data={\n",
    "    'random_weights': random_weights,\n",
    "})\n",
    "print_func('PORTFOLIO WEIGHTS:', weights_df)\n",
    "\n",
    "metrics_df = pd.DataFrame(data={\n",
    "    'Expected Portfolio Returns': rp,\n",
    "    'Expected Portfolio Volatility': exp_vol,\n",
    "    'Portfolio Sharpe Ratio': sharpe_ratio\n",
    "}, index=[0])\n",
    "print_func('PORTFOLIO METRICS:', metrics_df)"
   ]
  },
  {
   "cell_type": "markdown",
   "id": "c7b4515e",
   "metadata": {},
   "source": [
    "### Monte Carlo Simulation"
   ]
  },
  {
   "cell_type": "code",
   "execution_count": 7,
   "id": "9c68295d",
   "metadata": {},
   "outputs": [],
   "source": [
    "num_of_portfolios = 6000 # Number of simulations\n",
    "np.random.seed(42)\n",
    "\n",
    "all_weights = np.zeros((num_of_portfolios, 3)) # 5000 iter for 3 stocks\n",
    "ret_arr = np.zeros(num_of_portfolios)\n",
    "vol_arr = np.zeros(num_of_portfolios)\n",
    "sharpe_arr = np.zeros(num_of_portfolios)\n",
    "\n",
    "for i in range(num_of_portfolios):\n",
    "    if i > 0 and i <= 1000:\n",
    "        # First segment: Favor portfolio 1 (higher alpha for portfolio 1)\n",
    "        alpha = [2.0, 0.5, 0.5]\n",
    "    elif i > 1000 and i <= 2000:\n",
    "        # Second segment: Favor portfolio 2\n",
    "        alpha = [0.5, 2.0, 0.5]\n",
    "    elif i > 2000 and i <= 3000:\n",
    "        # Third segment: Favor portfolio 3\n",
    "        alpha = [0.5, 0.5, 2.0]\n",
    "    elif i > 3000 and i <= 4000:\n",
    "        # Fourth segment: More balanced weights\n",
    "        alpha = [1.0, 1.0, 1.0]\n",
    "    elif i > 4000 and i <= 5000:\n",
    "        # Fifth segment: Favor portfolios 2 and 3\n",
    "        alpha = [0.5, 1.5, 1.5]\n",
    "    else:\n",
    "        # Sixth segment: Favours portfolios 1 and 3\n",
    "        alpha = [1.5, 0.5, 1.5]\n",
    "        \n",
    "    # Using Dirichlet Distribution to get the random values and storing it\n",
    "    all_weights[i] = np.random.dirichlet(alpha)\n",
    "    \n",
    "    # Calc expected log returns\n",
    "    ret_arr[i] = np.sum((log_return.mean() * all_weights[i]) * 252)\n",
    "    \n",
    "    # Calc Volatility\n",
    "    vol_arr[i] = np.sqrt(\n",
    "        np.dot(all_weights[i].T, np.dot(log_return.cov() * 252, all_weights[i]))\n",
    "    )\n",
    "    \n",
    "    # Calc Sharpe Ratio\n",
    "    sharpe_arr[i] = ret_arr[i] / vol_arr[i]"
   ]
  },
  {
   "cell_type": "code",
   "execution_count": 8,
   "id": "f121fcea",
   "metadata": {},
   "outputs": [
    {
     "name": "stdout",
     "output_type": "stream",
     "text": [
      "\n",
      "================================================================================\n",
      "SIMULATIONS RESULT:\n",
      "--------------------------------------------------------------------------------\n",
      "    Returns  Volatility  Sharpe Ratio  \\\n",
      "0  0.577228    0.605122      0.953904   \n",
      "1  0.359591    0.534973      0.672167   \n",
      "2  0.360827    0.541885      0.665874   \n",
      "3  0.725873    0.677432      1.071507   \n",
      "4  0.327959    0.533440      0.614799   \n",
      "\n",
      "                                   Portfolio Weights  \n",
      "0  [0.5618550811183951, 0.11678220993442089, 0.32...  \n",
      "1  [0.5585504895960757, 0.43603329228225574, 0.00...  \n",
      "2  [0.9112671646679144, 0.029423989689246692, 0.0...  \n",
      "3  [0.40527230562006866, 0.08103788397330082, 0.5...  \n",
      "4  [0.8437643822468637, 0.15454032565470158, 0.00...  \n",
      "--------------------------------------------------------------------------------\n"
     ]
    }
   ],
   "source": [
    "# Create new Dataframe \n",
    "simulations_data = [ret_arr, vol_arr, sharpe_arr, all_weights]\n",
    "simulations_df = pd.DataFrame(data=simulations_data).T\n",
    "\n",
    "# Giving Column Names\n",
    "simulations_df.columns = [\n",
    "    'Returns',\n",
    "    'Volatility',\n",
    "    'Sharpe Ratio',\n",
    "    'Portfolio Weights'\n",
    "]\n",
    "\n",
    "simulations_df = simulations_df.infer_objects()\n",
    "\n",
    "print_func('SIMULATIONS RESULT:', simulations_df.head())"
   ]
  },
  {
   "cell_type": "markdown",
   "id": "04ec601e",
   "metadata": {},
   "source": [
    "### Getting important Metrics"
   ]
  },
  {
   "cell_type": "code",
   "execution_count": 9,
   "id": "dcddf97e",
   "metadata": {},
   "outputs": [
    {
     "name": "stdout",
     "output_type": "stream",
     "text": [
      "\n",
      "================================================================================\n",
      "MAX SHARPE RATIO: \n",
      "--------------------------------------------------------------------------------\n",
      "Returns                                                       1.102282\n",
      "Volatility                                                    0.916197\n",
      "Sharpe Ratio                                                  1.203107\n",
      "Portfolio Weights    [0.0002308664258650205, 0.00031463553034503017...\n",
      "Name: 2565, dtype: object\n",
      "--------------------------------------------------------------------------------\n",
      "\n",
      "================================================================================\n",
      "MIN VOLATILITY: \n",
      "--------------------------------------------------------------------------------\n",
      "Returns                                                       0.334125\n",
      "Volatility                                                    0.532886\n",
      "Sharpe Ratio                                                  0.627012\n",
      "Portfolio Weights    [0.7717725976852945, 0.2282273965002996, 5.814...\n",
      "Name: 384, dtype: object\n",
      "--------------------------------------------------------------------------------\n"
     ]
    }
   ],
   "source": [
    "max_sharpe_ratio = simulations_df.loc[simulations_df['Sharpe Ratio'].idxmax()] # Mazimum sharpe Ratio\n",
    "\n",
    "min_volatility = simulations_df.loc[simulations_df['Volatility'].idxmin()] # Minimum risk (volatility)\n",
    "\n",
    "print_func('MAX SHARPE RATIO: ', max_sharpe_ratio)\n",
    "print_func('MIN VOLATILITY: ', min_volatility)"
   ]
  },
  {
   "cell_type": "code",
   "execution_count": 10,
   "id": "299e4efb",
   "metadata": {},
   "outputs": [
    {
     "data": {
      "text/plain": [
       "array([7.71772598e-01, 2.28227397e-01, 5.81440592e-09])"
      ]
     },
     "execution_count": 10,
     "metadata": {},
     "output_type": "execute_result"
    }
   ],
   "source": [
    "min_volatility = simulations_df.loc[384]\n",
    "min_volatility['Portfolio Weights']"
   ]
  },
  {
   "cell_type": "code",
   "execution_count": null,
   "id": "c64c1975",
   "metadata": {},
   "outputs": [],
   "source": []
  }
 ],
 "metadata": {
  "kernelspec": {
   "display_name": "ml-zoomcamp",
   "language": "python",
   "name": "python3"
  },
  "language_info": {
   "codemirror_mode": {
    "name": "ipython",
    "version": 3
   },
   "file_extension": ".py",
   "mimetype": "text/x-python",
   "name": "python",
   "nbconvert_exporter": "python",
   "pygments_lexer": "ipython3",
   "version": "3.12.1"
  }
 },
 "nbformat": 4,
 "nbformat_minor": 5
}
