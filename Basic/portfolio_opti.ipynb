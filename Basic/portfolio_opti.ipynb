{
 "cells": [
  {
   "cell_type": "code",
   "execution_count": 1,
   "id": "e0c89d51",
   "metadata": {},
   "outputs": [],
   "source": [
    "import pathlib\n",
    "import numpy as np\n",
    "import pandas as pd\n",
    "import matplotlib.pyplot as plt\n",
    "import scipy.optimize as sci_plt\n",
    "\n",
    "from pprint import pprint\n",
    "from sklearn.preprocessing import StandardScaler"
   ]
  },
  {
   "cell_type": "code",
   "execution_count": 2,
   "id": "f2b0a054",
   "metadata": {},
   "outputs": [
    {
     "data": {
      "text/html": [
       "<div>\n",
       "<style scoped>\n",
       "    .dataframe tbody tr th:only-of-type {\n",
       "        vertical-align: middle;\n",
       "    }\n",
       "\n",
       "    .dataframe tbody tr th {\n",
       "        vertical-align: top;\n",
       "    }\n",
       "\n",
       "    .dataframe thead th {\n",
       "        text-align: right;\n",
       "    }\n",
       "</style>\n",
       "<table border=\"1\" class=\"dataframe\">\n",
       "  <thead>\n",
       "    <tr style=\"text-align: right;\">\n",
       "      <th></th>\n",
       "      <th>date</th>\n",
       "      <th>close</th>\n",
       "      <th>volume</th>\n",
       "      <th>open</th>\n",
       "      <th>high</th>\n",
       "      <th>low</th>\n",
       "      <th>symbol</th>\n",
       "    </tr>\n",
       "  </thead>\n",
       "  <tbody>\n",
       "    <tr>\n",
       "      <th>0</th>\n",
       "      <td>2020-07-23</td>\n",
       "      <td>122.93</td>\n",
       "      <td>11010220</td>\n",
       "      <td>127.74</td>\n",
       "      <td>129.8494</td>\n",
       "      <td>121.32</td>\n",
       "      <td>SQ</td>\n",
       "    </tr>\n",
       "    <tr>\n",
       "      <th>1</th>\n",
       "      <td>2020-07-22</td>\n",
       "      <td>129.18</td>\n",
       "      <td>8437494</td>\n",
       "      <td>127.49</td>\n",
       "      <td>131.7100</td>\n",
       "      <td>127.06</td>\n",
       "      <td>SQ</td>\n",
       "    </tr>\n",
       "    <tr>\n",
       "      <th>2</th>\n",
       "      <td>2020-07-21</td>\n",
       "      <td>126.99</td>\n",
       "      <td>10787520</td>\n",
       "      <td>129.95</td>\n",
       "      <td>130.8000</td>\n",
       "      <td>125.07</td>\n",
       "      <td>SQ</td>\n",
       "    </tr>\n",
       "    <tr>\n",
       "      <th>3</th>\n",
       "      <td>2020-07-20</td>\n",
       "      <td>128.39</td>\n",
       "      <td>12423990</td>\n",
       "      <td>121.26</td>\n",
       "      <td>129.4600</td>\n",
       "      <td>120.53</td>\n",
       "      <td>SQ</td>\n",
       "    </tr>\n",
       "    <tr>\n",
       "      <th>4</th>\n",
       "      <td>2020-07-17</td>\n",
       "      <td>120.73</td>\n",
       "      <td>6968161</td>\n",
       "      <td>120.98</td>\n",
       "      <td>122.3800</td>\n",
       "      <td>118.59</td>\n",
       "      <td>SQ</td>\n",
       "    </tr>\n",
       "  </tbody>\n",
       "</table>\n",
       "</div>"
      ],
      "text/plain": [
       "         date   close    volume    open      high     low symbol\n",
       "0  2020-07-23  122.93  11010220  127.74  129.8494  121.32     SQ\n",
       "1  2020-07-22  129.18   8437494  127.49  131.7100  127.06     SQ\n",
       "2  2020-07-21  126.99  10787520  129.95  130.8000  125.07     SQ\n",
       "3  2020-07-20  128.39  12423990  121.26  129.4600  120.53     SQ\n",
       "4  2020-07-17  120.73   6968161  120.98  122.3800  118.59     SQ"
      ]
     },
     "execution_count": 2,
     "metadata": {},
     "output_type": "execute_result"
    }
   ],
   "source": [
    "df = pd.read_csv(\"data/stock_data.csv\")\n",
    "df.head()"
   ]
  },
  {
   "cell_type": "code",
   "execution_count": 3,
   "metadata": {},
   "outputs": [
    {
     "data": {
      "text/html": [
       "<div>\n",
       "<style scoped>\n",
       "    .dataframe tbody tr th:only-of-type {\n",
       "        vertical-align: middle;\n",
       "    }\n",
       "\n",
       "    .dataframe tbody tr th {\n",
       "        vertical-align: top;\n",
       "    }\n",
       "\n",
       "    .dataframe thead th {\n",
       "        text-align: right;\n",
       "    }\n",
       "</style>\n",
       "<table border=\"1\" class=\"dataframe\">\n",
       "  <thead>\n",
       "    <tr style=\"text-align: right;\">\n",
       "      <th>symbol</th>\n",
       "      <th>AAPL</th>\n",
       "      <th>MSFT</th>\n",
       "      <th>SQ</th>\n",
       "    </tr>\n",
       "    <tr>\n",
       "      <th>date</th>\n",
       "      <th></th>\n",
       "      <th></th>\n",
       "      <th></th>\n",
       "    </tr>\n",
       "  </thead>\n",
       "  <tbody>\n",
       "    <tr>\n",
       "      <th>2020-01-24</th>\n",
       "      <td>318.31</td>\n",
       "      <td>165.04</td>\n",
       "      <td>71.14</td>\n",
       "    </tr>\n",
       "    <tr>\n",
       "      <th>2020-01-27</th>\n",
       "      <td>308.95</td>\n",
       "      <td>162.28</td>\n",
       "      <td>71.05</td>\n",
       "    </tr>\n",
       "    <tr>\n",
       "      <th>2020-01-28</th>\n",
       "      <td>317.69</td>\n",
       "      <td>165.46</td>\n",
       "      <td>74.80</td>\n",
       "    </tr>\n",
       "    <tr>\n",
       "      <th>2020-01-29</th>\n",
       "      <td>324.34</td>\n",
       "      <td>168.04</td>\n",
       "      <td>76.16</td>\n",
       "    </tr>\n",
       "    <tr>\n",
       "      <th>2020-01-30</th>\n",
       "      <td>323.87</td>\n",
       "      <td>172.78</td>\n",
       "      <td>76.10</td>\n",
       "    </tr>\n",
       "  </tbody>\n",
       "</table>\n",
       "</div>"
      ],
      "text/plain": [
       "symbol        AAPL    MSFT     SQ\n",
       "date                             \n",
       "2020-01-24  318.31  165.04  71.14\n",
       "2020-01-27  308.95  162.28  71.05\n",
       "2020-01-28  317.69  165.46  74.80\n",
       "2020-01-29  324.34  168.04  76.16\n",
       "2020-01-30  323.87  172.78  76.10"
      ]
     },
     "execution_count": 3,
     "metadata": {},
     "output_type": "execute_result"
    }
   ],
   "source": [
    "# Get only the valid columns\n",
    "df = df [['date', 'symbol', 'close']]\n",
    "\n",
    "# Make symbol the headers (Pivot)\n",
    "df = df.pivot(\n",
    "    index='date',\n",
    "    columns='symbol',\n",
    "    values='close'\n",
    ")\n",
    "\n",
    "df.head()"
   ]
  },
  {
   "cell_type": "code",
   "execution_count": 15,
   "id": "f1a2bc60",
   "metadata": {},
   "outputs": [],
   "source": [
    "# Print Functionality\n",
    "def print_func(title: str, df):\n",
    "    print('')\n",
    "    print('='*80)\n",
    "    print(title)\n",
    "    print('-'*80)\n",
    "    print(df)\n",
    "    print('-'*80)"
   ]
  },
  {
   "cell_type": "code",
   "execution_count": 5,
   "id": "e7eae1ec",
   "metadata": {},
   "outputs": [
    {
     "name": "stdout",
     "output_type": "stream",
     "text": [
      "\n",
      "================================================================================\n",
      "PORTFOLIO WEIGHTS:\n",
      "--------------------------------------------------------------------------------\n",
      "   random_weights\n",
      "0        0.460553\n",
      "1        0.076843\n",
      "2        0.462604\n",
      "--------------------------------------------------------------------------------\n",
      "\n",
      "================================================================================\n",
      "PORTFOLIO METRICS:\n",
      "--------------------------------------------------------------------------------\n",
      "   Expected Portfolio Returns  Expected Portfolio Volatility  \\\n",
      "0                    0.684995                       0.656308   \n",
      "\n",
      "   Portfolio Sharpe Ratio  \n",
      "0                 1.04371  \n",
      "--------------------------------------------------------------------------------\n"
     ]
    }
   ],
   "source": [
    "# Calculate Log returns\n",
    "log_return = np.log(1 + df.pct_change())\n",
    "\n",
    "# Generate Random Weights (of each portfolio)\n",
    "random_weights = np.array(np.random.random(3))\n",
    "random_weights /= np.sum(random_weights) # Summing to 1\n",
    "\n",
    "# Calculate Expected Return (Rp) for the whole year, i.e. 252 working days\n",
    "rp = np.sum((log_return.mean() * random_weights) * 252)\n",
    "\n",
    "# Calculate Expected Volatility, for whole year\n",
    "exp_vol = np.sqrt(\n",
    "    np.dot(\n",
    "        random_weights.T,\n",
    "        np.dot(\n",
    "            log_return.cov() * 252,\n",
    "            random_weights\n",
    "        )\n",
    "    )\n",
    ")\n",
    "\n",
    "# Calculate Sharpe Ratio\n",
    "sharpe_ratio = rp / exp_vol\n",
    "\n",
    "weights_df = pd.DataFrame(data={\n",
    "    'random_weights': random_weights,\n",
    "})\n",
    "print_func('PORTFOLIO WEIGHTS:', weights_df)\n",
    "\n",
    "metrics_df = pd.DataFrame(data={\n",
    "    'Expected Portfolio Returns': rp,\n",
    "    'Expected Portfolio Volatility': exp_vol,\n",
    "    'Portfolio Sharpe Ratio': sharpe_ratio\n",
    "}, index=[0])\n",
    "print_func('PORTFOLIO METRICS:', metrics_df)"
   ]
  },
  {
   "cell_type": "markdown",
   "id": "c7b4515e",
   "metadata": {},
   "source": [
    "### Monte Carlo Simulation"
   ]
  },
  {
   "cell_type": "code",
   "execution_count": 6,
   "id": "9c68295d",
   "metadata": {},
   "outputs": [],
   "source": [
    "num_of_portfolios = 6000 # Number of simulations\n",
    "np.random.seed(42)\n",
    "\n",
    "log_return = np.log(df / df.shift(1))\n",
    "log_return = log_return.dropna()\n",
    "\n",
    "all_weights = np.zeros((num_of_portfolios, 3)) # 5000 iter for 3 stocks\n",
    "ret_arr = np.zeros(num_of_portfolios)\n",
    "vol_arr = np.zeros(num_of_portfolios)\n",
    "sharpe_arr = np.zeros(num_of_portfolios)\n",
    "\n",
    "mean_returns = log_return.mean().values\n",
    "cov_matrix = log_return.cov().values\n",
    "\n",
    "\n",
    "for i in range(num_of_portfolios):\n",
    "    if i > 0 and i <= 1000:\n",
    "        # First segment: Favor portfolio 1 (higher alpha for portfolio 1)\n",
    "        alpha = [1.5, 1.0, 1.0]\n",
    "    elif i > 1000 and i <= 2000:\n",
    "        # Second segment: Favor portfolio 2\n",
    "        alpha = [1.0, 1.5, 1.0]\n",
    "    elif i > 2000 and i <= 3000:\n",
    "        # Third segment: Favor portfolio 3\n",
    "        alpha = [1.0, 1.0, 1.5]\n",
    "    elif i > 3000 and i <= 4000:\n",
    "        # Fourth segment: More balanced weights\n",
    "        alpha = [1.0, 1.0, 1.0]\n",
    "    elif i > 4000 and i <= 5000:\n",
    "        # Fifth segment: Favor portfolios 2 and 3\n",
    "        alpha = [1.0, 1.5, 1.5]\n",
    "    else:\n",
    "        # Sixth segment: Favours portfolios 1 and 3\n",
    "        alpha = [1.5, 1.0, 1.5]\n",
    "\n",
    "    # Using Dirichlet Distribution to get the random values and storing it\n",
    "    all_weights[i] = np.random.dirichlet(alpha)\n",
    "    \n",
    "    # Calc expected log returns\n",
    "    ret_arr[i] = np.dot(all_weights[i], mean_returns) * 252\n",
    "    \n",
    "    # Calc Volatility\n",
    "    vol_arr[i] = np.sqrt(\n",
    "        np.dot(\n",
    "            all_weights[i].T, \n",
    "            np.dot(\n",
    "                cov_matrix * 252, \n",
    "                all_weights[i]\n",
    "            )\n",
    "        )\n",
    "    )\n",
    "\n",
    "    \n",
    "    # Calc Sharpe Ratio\n",
    "    risk_free_rate = 0.02\n",
    "    sharpe_arr[i] = (ret_arr[i] - risk_free_rate) / vol_arr[i]\n"
   ]
  },
  {
   "cell_type": "code",
   "execution_count": 7,
   "id": "f121fcea",
   "metadata": {},
   "outputs": [
    {
     "name": "stdout",
     "output_type": "stream",
     "text": [
      "\n",
      "================================================================================\n",
      "SIMULATIONS RESULT:\n",
      "--------------------------------------------------------------------------------\n",
      "    Returns  Volatility  Sharpe Ratio  \\\n",
      "0  0.553353    0.592260      0.900538   \n",
      "1  0.864009    0.759450      1.111342   \n",
      "2  0.370486    0.542207      0.646407   \n",
      "3  0.522300    0.578709      0.867966   \n",
      "4  0.624243    0.624431      0.967670   \n",
      "\n",
      "                                   Portfolio Weights  \n",
      "0  [0.48028469286233844, 0.24500818932202068, 0.2...  \n",
      "1  [0.29781411039443373, 0.004144013075052749, 0....  \n",
      "2  [0.8570364728961569, 0.07766549322233594, 0.06...  \n",
      "3  [0.4174531610963796, 0.36213046193387405, 0.22...  \n",
      "4  [0.4622391128263664, 0.16296570209778222, 0.37...  \n",
      "--------------------------------------------------------------------------------\n"
     ]
    }
   ],
   "source": [
    "# Create new Dataframe \n",
    "simulations_data = [ret_arr, vol_arr, sharpe_arr, all_weights]\n",
    "simulations_df = pd.DataFrame(data=simulations_data).T\n",
    "\n",
    "# Giving Column Names\n",
    "simulations_df.columns = [\n",
    "    'Returns',\n",
    "    'Volatility',\n",
    "    'Sharpe Ratio',\n",
    "    'Portfolio Weights'\n",
    "]\n",
    "\n",
    "simulations_df = simulations_df.infer_objects()\n",
    "\n",
    "print_func('SIMULATIONS RESULT:', simulations_df.head())"
   ]
  },
  {
   "cell_type": "markdown",
   "id": "04ec601e",
   "metadata": {},
   "source": [
    "### Getting important Metrics"
   ]
  },
  {
   "cell_type": "code",
   "execution_count": 8,
   "id": "dcddf97e",
   "metadata": {},
   "outputs": [
    {
     "name": "stdout",
     "output_type": "stream",
     "text": [
      "\n",
      "================================================================================\n",
      "MAX SHARPE RATIO: \n",
      "--------------------------------------------------------------------------------\n",
      "Returns                                                       1.095692\n",
      "Volatility                                                    0.911538\n",
      "Sharpe Ratio                                                  1.180085\n",
      "Portfolio Weights    [0.006615507227936485, 0.00253866672786374, 0....\n",
      "Name: 3885, dtype: object\n",
      "--------------------------------------------------------------------------------\n",
      "\n",
      "================================================================================\n",
      "MIN VOLATILITY: \n",
      "--------------------------------------------------------------------------------\n",
      "Returns                                                       0.336248\n",
      "Volatility                                                    0.532936\n",
      "Sharpe Ratio                                                  0.593408\n",
      "Portfolio Weights    [0.7553253991413381, 0.24402717183927955, 0.00...\n",
      "Name: 5156, dtype: object\n",
      "--------------------------------------------------------------------------------\n"
     ]
    }
   ],
   "source": [
    "max_sharpe_ratio = simulations_df.loc[simulations_df['Sharpe Ratio'].idxmax()] # Mazimum sharpe Ratio\n",
    "\n",
    "min_volatility = simulations_df.loc[simulations_df['Volatility'].idxmin()] # Minimum risk (volatility)\n",
    "\n",
    "print_func('MAX SHARPE RATIO: ', max_sharpe_ratio)\n",
    "print_func('MIN VOLATILITY: ', min_volatility)"
   ]
  },
  {
   "cell_type": "code",
   "execution_count": 9,
   "id": "c64c1975",
   "metadata": {},
   "outputs": [
    {
     "data": {
      "image/png": "[encoded data removed]",
      "text/plain": [
       "<Figure size 640x480 with 2 Axes>"
      ]
     },
     "metadata": {},
     "output_type": "display_data"
    }
   ],
   "source": [
    "plt.scatter(vol_arr, ret_arr, c=sharpe_arr, cmap='viridis')\n",
    "plt.colorbar(label='Sharpe Ratio')\n",
    "plt.xlabel('Volatility')\n",
    "plt.ylabel('Return')\n",
    "plt.title('Monte Carlo Portfolio Optimization')\n",
    "plt.show()\n"
   ]
  },
  {
   "cell_type": "markdown",
   "id": "ce80f157",
   "metadata": {},
   "source": [
    "### Optimization"
   ]
  },
  {
   "cell_type": "code",
   "execution_count": 24,
   "id": "5f84bbfd",
   "metadata": {},
   "outputs": [],
   "source": [
    "import scipy.optimize as sci_opt"
   ]
  },
  {
   "cell_type": "code",
   "execution_count": 31,
   "id": "94de9ddb",
   "metadata": {},
   "outputs": [],
   "source": [
    "# Assume df is defined earlier with 3 columns\n",
    "log_return = np.log(1 + df.pct_change()).dropna()\n",
    "\n",
    "def get_metrics(weights):\n",
    "    weights = np.array(weights)\n",
    "    assert len(weights) == 3, \"Weights must have 3 elements\"\n",
    "    \n",
    "    # Returns (annualized)\n",
    "    ret = np.sum(log_return.mean() * weights) * 252\n",
    "    \n",
    "    # Volatility (annualized)\n",
    "    vol = np.sqrt(np.dot(weights.T, np.dot(log_return.cov() * 252, weights)))\n",
    "    \n",
    "    # Sharpe Ratio (assuming risk-free rate = 0)\n",
    "    sr = ret / vol\n",
    "    \n",
    "    return np.array([ret, vol, sr])  \n",
    "\n",
    "def grab_neg_sharpe(weights):\n",
    "    metrics = get_metrics(weights)\n",
    "    return metrics[2] - 1  # Extract Sharpe ratio and negate it\n",
    "\n",
    "def grab_vol(weights):\n",
    "    return get_metrics(weights)[1]\n",
    "\n",
    "def check_sum(weights):\n",
    "    return np.sum(weights) - 1"
   ]
  },
  {
   "cell_type": "code",
   "execution_count": 32,
   "id": "927c3be1",
   "metadata": {},
   "outputs": [],
   "source": [
    "# Bounds and constraints\n",
    "bounds = tuple((0, 1) for _ in range(3))  # 3 assets\n",
    "constraints = ({'type': 'eq', 'fun': check_sum})\n",
    "\n",
    "# Initial guess\n",
    "init_guess = 3 * [1 / 3]  # Equal weights"
   ]
  },
  {
   "cell_type": "code",
   "execution_count": 33,
   "id": "bb0d8c6f",
   "metadata": {},
   "outputs": [
    {
     "name": "stdout",
     "output_type": "stream",
     "text": [
      "\n",
      "OPTIMIZED SHARPE RATIO:\n",
      "Portfolio Weights: [1. 0. 0.] (Sum: 1.000000)\n",
      "Return: 0.31\n",
      "Volatility: 0.54\n",
      "Sharpe Ratio: 0.58\n"
     ]
    }
   ],
   "source": [
    "# Optimize for maximum Sharpe ratio\n",
    "optimized_sharpe = sci_opt.minimize(\n",
    "    grab_neg_sharpe,  # Objective function to minimize (negative Sharpe)\n",
    "    init_guess,       # Starting point\n",
    "    method='SLSQP',\n",
    "    bounds=bounds,    # Weight bounds (0 to 1)\n",
    "    constraints=constraints  # Sum to 1 constraint\n",
    ")\n",
    "\n",
    "# Print results\n",
    "print_func(\"OPTIMIZED SHARPE RATIO:\", optimized_sharpe)"
   ]
  },
  {
   "cell_type": "code",
   "execution_count": 34,
   "id": "53176183",
   "metadata": {},
   "outputs": [
    {
     "name": "stdout",
     "output_type": "stream",
     "text": [
      "\n",
      "OPTIMIZED WEIGHTS:\n",
      "[1.0000000e+00 4.4408921e-16 0.0000000e+00]\n",
      "\n",
      "OPTIMIZED METRICS:\n",
      "[0.31086729 0.53553897 0.58047558]\n"
     ]
    }
   ],
   "source": [
    "optimized_metrics = get_metrics(weights=optimized_sharpe.x)\n",
    "print_func(\"OPTIMIZED WEIGHTS:\", optimized_sharpe.x)\n",
    "print_func(\"OPTIMIZED METRICS:\", optimized_metrics)"
   ]
  },
  {
   "cell_type": "code",
   "execution_count": 35,
   "id": "45d28ab9",
   "metadata": {},
   "outputs": [],
   "source": [
    "# Bounds and constraints\n",
    "bounds = tuple((0, 1) for _ in range(3))  # 3 assets\n",
    "constraints = ({'type': 'eq', 'fun': check_sum})\n",
    "\n",
    "# Initial guess\n",
    "init_guess = 3 * [1 / 3]  # Equal weights"
   ]
  },
  {
   "cell_type": "code",
   "execution_count": 36,
   "id": "85563fa7",
   "metadata": {},
   "outputs": [
    {
     "name": "stdout",
     "output_type": "stream",
     "text": [
      "\n",
      "OPTIMIZED VOLATILITY RATIO:\n",
      "Portfolio Weights: [1. 0. 0.] (Sum: 1.000000)\n",
      "Return: 0.31\n",
      "Volatility: 0.54\n",
      "Sharpe Ratio: 0.58\n"
     ]
    }
   ],
   "source": [
    "# Optimize for maximum Sharpe ratio\n",
    "optimized_vol = sci_opt.minimize(\n",
    "    grab_vol,  # Objective function to minimize (negative Sharpe)\n",
    "    init_guess,       # Starting point\n",
    "    method='SLSQP',\n",
    "    bounds=bounds,    # Weight bounds (0 to 1)\n",
    "    constraints=constraints  # Sum to 1 constraint\n",
    ")\n",
    "\n",
    "# Print results\n",
    "print_func(\"OPTIMIZED VOLATILITY RATIO:\", optimized_sharpe)"
   ]
  },
  {
   "cell_type": "code",
   "execution_count": 37,
   "id": "2f1b276a",
   "metadata": {},
   "outputs": [
    {
     "name": "stdout",
     "output_type": "stream",
     "text": [
      "\n",
      "OPTIMIZED WEIGHTS:\n",
      "[7.48507672e-01 2.51492328e-01 1.95156391e-17]\n",
      "\n",
      "OPTIMIZED METRICS:\n",
      "[0.33649631 0.53286095 0.6314899 ]\n"
     ]
    }
   ],
   "source": [
    "optimized_metrics = get_metrics(weights=optimized_vol.x)\n",
    "print_func(\"OPTIMIZED WEIGHTS:\", optimized_vol.x)\n",
    "print_func(\"OPTIMIZED METRICS:\", optimized_metrics)"
   ]
  },
  {
   "cell_type": "code",
   "execution_count": null,
   "id": "c3bd8192",
   "metadata": {},
   "outputs": [],
   "source": []
  }
 ],
 "metadata": {
  "kernelspec": {
   "display_name": "ml-zoomcamp",
   "language": "python",
   "name": "python3"
  },
  "language_info": {
   "codemirror_mode": {
    "name": "ipython",
    "version": 3
   },
   "file_extension": ".py",
   "mimetype": "text/x-python",
   "name": "python",
   "nbconvert_exporter": "python",
   "pygments_lexer": "ipython3",
   "version": "3.12.1"
  }
 },
 "nbformat": 4,
 "nbformat_minor": 5
}
